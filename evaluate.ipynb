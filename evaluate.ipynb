{
 "cells": [
  {
   "cell_type": "markdown",
   "metadata": {
    "id": "fvP3aM0oMKvT"
   },
   "source": [
    "# Evaluate fine-tuned model.\n",
    "\n",
    "Author: Francesco Conti\n"
   ]
  },
  {
   "cell_type": "markdown",
   "metadata": {
    "id": "xLoVtmTDGVby"
   },
   "source": [
    "### Imports"
   ]
  },
  {
   "cell_type": "code",
   "execution_count": null,
   "metadata": {
    "id": "5NiFOzxJCjJa"
   },
   "outputs": [],
   "source": [
    "# For Colab - uncomment and run the following to set up the repo\n",
    "!pip install speechbrain"
   ]
  },
  {
   "cell_type": "code",
   "execution_count": 17,
   "metadata": {
    "id": "5k7MiTJsK2Ba"
   },
   "outputs": [],
   "source": [
    "%%capture\n",
    "%load_ext autoreload\n",
    "%autoreload 2\n",
    "\n",
    "from tqdm import tqdm\n",
    "import numpy as np\n",
    "import pandas as pd\n",
    "import seaborn as sns\n",
    "import os\n",
    "import zipfile\n",
    "\n",
    "from huggingface_hub import hf_hub_download\n",
    "from IPython.display import display\n",
    "from speechbrain.dataio.dataio import read_audio\n",
    "import torch\n"
   ]
  },
  {
   "cell_type": "markdown",
   "metadata": {
    "id": "oBhuztrjHQX8"
   },
   "source": [
    "### Download data\n",
    "\n",
    "You need to log in to HuggingFace to be able to download the dataset"
   ]
  },
  {
   "cell_type": "code",
   "execution_count": 3,
   "metadata": {
    "id": "tIs2UVfDzP3Q"
   },
   "outputs": [],
   "source": [
    "# define function to download data from hf_hub\n",
    "\n",
    "def download_data(dest=\"data\"):\n",
    "\n",
    "    if os.path.exists(os.path.join(dest, \"audio\", \"train\")):\n",
    "        print(\n",
    "            f\"It appears that data is already downloaded. \\nIf you think it should be re-downloaded, remove {dest}/ directory and re-run\"\n",
    "        )\n",
    "        return\n",
    "\n",
    "    # download data from Huggingface\n",
    "    for file_name in [\"metadata.csv\", \"audio.zip\", \"dev_pairs.csv\", \"test_pairs.csv\", \"sample_submission.csv\"]:\n",
    "\n",
    "        hf_hub_download(\n",
    "            repo_id=\"Ubenwa/CryCeleb2023\",\n",
    "            filename=file_name,\n",
    "            local_dir=dest,\n",
    "            repo_type=\"dataset\",\n",
    "        )\n",
    "\n",
    "    with zipfile.ZipFile(os.path.join(dest, \"audio.zip\"), \"r\") as zip_ref:\n",
    "        zip_ref.extractall(dest)\n",
    "\n",
    "    print(\"Data downloaded to {dest}/ directory\")\n",
    "\n",
    "dataset_path = \"data\""
   ]
  },
  {
   "cell_type": "code",
   "execution_count": null,
   "metadata": {
    "id": "Du5UrdEgKx7a"
   },
   "outputs": [],
   "source": [
    "# Verify your token. Yuo have to accept the condition to download the data from Ubenwa/CryCeleb2023\n",
    "from huggingface_hub import notebook_login\n",
    "\n",
    "notebook_login()"
   ]
  },
  {
   "cell_type": "code",
   "execution_count": null,
   "metadata": {
    "id": "WJnx_nmjCjJf"
   },
   "outputs": [],
   "source": [
    "# Download the data if you haven't already downloaded with train.ipynb\n",
    "download_data(dataset_path)"
   ]
  },
  {
   "cell_type": "code",
   "execution_count": 6,
   "metadata": {
    "id": "JrT1EvuiLjlr"
   },
   "outputs": [],
   "source": [
    "# read metadata csv and get the training split\n",
    "metadata = pd.read_csv(\n",
    "    f\"{dataset_path}/metadata.csv\", dtype={\"baby_id\": str, \"chronological_index\": str}\n",
    ")"
   ]
  },
  {
   "cell_type": "markdown",
   "metadata": {
    "id": "cVDparawc1YF"
   },
   "source": [
    "### Evaluate Performance on Dev-Set\n",
    "You can now use embedding_model.ckpt from this recipe and use it in evaluate.ipynb to verify pairs of cries and submit your results!"
   ]
  },
  {
   "cell_type": "code",
   "execution_count": 7,
   "metadata": {
    "id": "rsKqHqWiNQDr"
   },
   "outputs": [],
   "source": [
    "from speechbrain.pretrained import EncoderClassifier, SpeakerRecognition\n",
    "from speechbrain.utils.metric_stats import EER"
   ]
  },
  {
   "cell_type": "code",
   "execution_count": null,
   "metadata": {
    "id": "N-eGaucUNSIK"
   },
   "outputs": [],
   "source": [
    "# read metadata\n",
    "metadata = pd.read_csv(\n",
    "    f\"{dataset_path}/metadata.csv\", dtype={\"baby_id\": str, \"chronological_index\": str}\n",
    ")\n",
    "dev_metadata = metadata.loc[metadata[\"split\"] == \"dev\"].copy()\n",
    "# read sample submission\n",
    "sample_submission = pd.read_csv(\n",
    "    f\"{dataset_path}/sample_submission.csv\"\n",
    ")  # scores are unfiorm random\n",
    "# read verification pairs\n",
    "dev_pairs = pd.read_csv(\n",
    "    f\"{dataset_path}/dev_pairs.csv\", dtype={\"baby_id_B\": str, \"baby_id_D\": str}\n",
    ")\n",
    "test_pairs = pd.read_csv(f\"{dataset_path}/test_pairs.csv\")\n",
    "\n",
    "display(\n",
    "    metadata.head()\n",
    "    .style.set_caption(\"metadata\")\n",
    "    .set_table_styles([{\"selector\": \"caption\", \"props\": [(\"font-size\", \"20px\")]}])\n",
    ")\n",
    "display(\n",
    "    dev_pairs.head()\n",
    "    .style.set_caption(\"dev_pairs\")\n",
    "    .set_table_styles([{\"selector\": \"caption\", \"props\": [(\"font-size\", \"20px\")]}])\n",
    ")\n",
    "display(\n",
    "    test_pairs.head()\n",
    "    .style.set_caption(\"test_pairs\")\n",
    "    .set_table_styles([{\"selector\": \"caption\", \"props\": [(\"font-size\", \"20px\")]}])\n",
    ")\n",
    "display(\n",
    "    sample_submission.head()\n",
    "    .style.set_caption(\"sample_submission\")\n",
    "    .set_table_styles([{\"selector\": \"caption\", \"props\": [(\"font-size\", \"20px\")]}])\n",
    ")"
   ]
  },
  {
   "cell_type": "code",
   "source": [
    "!gdown https://drive.google.com/uc?id=1eZnYIlL5ZrLKoqBoEUow9M_EfX1Xt0MQ -O ./models/best_model.ckpt"
   ],
   "metadata": {
    "id": "SIz7f5GHnvAS"
   },
   "execution_count": null,
   "outputs": []
  },
  {
   "cell_type": "code",
   "execution_count": null,
   "metadata": {
    "id": "W-NO_MP6NSLP"
   },
   "outputs": [],
   "source": [
    "# Copy one of the best model in the spkrec-ecapa-voxceleb folder\n",
    "!rm ./spkrec-ecapa-voxceleb/embedding_model.ckpt\n",
    "\n",
    "!cp ./models/best_model.ckpt ./models/embedding_model.ckpt\n",
    "!mv ./models/embedding_model.ckpt ./spkrec-ecapa-voxceleb/embedding_model.ckpt"
   ]
  },
  {
   "cell_type": "code",
   "execution_count": null,
   "metadata": {
    "id": "sZYIl_qM4BhL"
   },
   "outputs": [],
   "source": [
    "# Initialize a SpeackerRecognition object with fine-tuned model\n",
    "encoder = SpeakerRecognition.from_hparams(\n",
    "   source=\"speechbrain/spkrec-ecapa-voxceleb\",\n",
    "   savedir=\"spkrec-ecapa-voxceleb\",\n",
    "   run_opts={\"device\": \"cuda\"},  # comment out if no GPU available\n",
    ")"
   ]
  },
  {
   "cell_type": "code",
   "execution_count": null,
   "metadata": {
    "id": "y1piNKLrNSOo"
   },
   "outputs": [],
   "source": [
    "\n",
    "# read the segments\n",
    "dev_metadata[\"cry\"] = dev_metadata.apply(\n",
    "    lambda row: read_audio(f'{dataset_path}/{row[\"file_name\"]}').numpy(), axis=1\n",
    ")\n",
    "# concatenate all segments for each (baby_id, period) group\n",
    "cry_dict = pd.DataFrame(\n",
    "    dev_metadata.groupby([\"baby_id\", \"period\"])[\"cry\"].agg(lambda x: np.concatenate(x.values)),\n",
    "    columns=[\"cry\"],\n",
    ").to_dict(orient=\"index\")\n",
    "# encode the concatenated cries\n",
    "for (baby_id, period), d in tqdm(cry_dict.items()):\n",
    "    d[\"cry_encoded\"] = encoder.encode_batch(torch.tensor(d[\"cry\"]), normalize=False)"
   ]
  },
  {
   "cell_type": "code",
   "execution_count": null,
   "metadata": {
    "id": "T7PlNPSCNrwk"
   },
   "outputs": [],
   "source": [
    "def compute_cosine_similarity_score(row, cry_dict):\n",
    "    cos = torch.nn.CosineSimilarity(dim=-1)\n",
    "    similarity_score = cos(\n",
    "        cry_dict[(row[\"baby_id_B\"], \"B\")][\"cry_encoded\"],\n",
    "        cry_dict[(row[\"baby_id_D\"], \"D\")][\"cry_encoded\"],\n",
    "    )\n",
    "    return similarity_score.item()\n",
    "\n",
    "\n",
    "dev_pairs[\"score\"] = dev_pairs.apply(\n",
    "    lambda row: compute_cosine_similarity_score(row=row, cry_dict=cry_dict), axis=1\n",
    ")\n",
    "\n",
    "dev_pairs"
   ]
  },
  {
   "cell_type": "code",
   "execution_count": null,
   "metadata": {
    "id": "PHgCAiS6UESd"
   },
   "outputs": [],
   "source": [
    "dev_pairs[dev_pairs.label == 1]"
   ]
  },
  {
   "cell_type": "code",
   "execution_count": 21,
   "metadata": {
    "colab": {
     "base_uri": "https://localhost:8080/",
     "height": 472
    },
    "id": "lyGaVHs1Nr7U",
    "outputId": "cc8d5d83-4700-4185-b2e6-f97bed1fad65"
   },
   "outputs": [
    {
     "output_type": "display_data",
     "data": {
      "text/plain": [
       "<Figure size 640x480 with 1 Axes>"
      ],
      "image/png": "[encoded data removed]"
     },
     "metadata": {}
    }
   ],
   "source": [
    "import matplotlib.pyplot as plt\n",
    "def compute_eer_and_plot_verification_scores(pairs_df):\n",
    "    \"\"\"pairs_df must have 'score' and 'label' columns\"\"\"\n",
    "    positive_scores = pairs_df.loc[pairs_df[\"label\"] == 1][\"score\"].values\n",
    "    negative_scores = pairs_df.loc[pairs_df[\"label\"] == 0][\"score\"].values\n",
    "    eer, threshold = EER(torch.tensor(positive_scores), torch.tensor(negative_scores))\n",
    "    ax = sns.histplot(pairs_df, x=\"score\", hue=\"label\", stat=\"percent\", binwidth=0.02, common_norm=False)\n",
    "    ax.set_title(f\"EER={round(eer, 4)} - Thresh={round(threshold, 4)}\")\n",
    "    plt.axvline(x=[threshold], color=\"red\", ls=\"--\")\n",
    "    return eer, threshold\n",
    "\n",
    "\n",
    "eer, threshold = compute_eer_and_plot_verification_scores(pairs_df=dev_pairs)"
   ]
  },
  {
   "cell_type": "markdown",
   "metadata": {
    "id": "nzW6BZtPd_Md"
   },
   "source": [
    "### Produce the submission csv"
   ]
  },
  {
   "cell_type": "code",
   "execution_count": null,
   "metadata": {
    "id": "iAgtorm4Nwtf"
   },
   "outputs": [],
   "source": [
    "%%time\n",
    "test_metadata = metadata.loc[metadata[\"split\"] == \"test\"].copy()\n",
    "# read the segments\n",
    "test_metadata[\"cry\"] = test_metadata.apply(\n",
    "    lambda row: read_audio(f'{dataset_path}/{row[\"file_name\"]}').numpy(), axis=1\n",
    ")\n",
    "# concatenate all segments for each (baby_id, period) group\n",
    "cry_dict_test = pd.DataFrame(\n",
    "    test_metadata.groupby([\"baby_id\", \"period\"])[\"cry\"].agg(lambda x: np.concatenate(x.values)),\n",
    "    columns=[\"cry\"],\n",
    ").to_dict(orient=\"index\")\n",
    "# encode the concatenated cries\n",
    "for (baby_id, period), d in tqdm(cry_dict_test.items()):\n",
    "    d[\"cry_encoded\"] = encoder.encode_batch(torch.tensor(d[\"cry\"]), normalize=False)\n",
    "\n",
    "# compute cosine similarity between all pairs\n",
    "test_pairs[\"score\"] = test_pairs.apply(\n",
    "    lambda row: compute_cosine_similarity_score(row=row, cry_dict=cry_dict_test), axis=1\n",
    ")\n",
    "display(test_pairs.head())"
   ]
  },
  {
   "cell_type": "code",
   "execution_count": null,
   "metadata": {
    "id": "ExX67BR-N0Xy"
   },
   "outputs": [],
   "source": [
    "\n",
    "# submission must match the 'sample_submission.csv' format exactly\n",
    "my_submission = test_pairs[[\"id\", \"score\"]]\n",
    "my_submission.to_csv(\"triplet_loss_submission.csv\", index=False)\n",
    "display(my_submission.head())"
   ]
  }
 ],
 "metadata": {
  "accelerator": "GPU",
  "colab": {
   "provenance": []
  },
  "gpuClass": "standard",
  "kernelspec": {
   "display_name": "Python 3 (ipykernel)",
   "language": "python",
   "name": "python3"
  },
  "language_info": {
   "codemirror_mode": {
    "name": "ipython",
    "version": 3
   },
   "file_extension": ".py",
   "mimetype": "text/x-python",
   "name": "python",
   "nbconvert_exporter": "python",
   "pygments_lexer": "ipython3",
   "version": "3.10.10"
  }
 },
 "nbformat": 4,
 "nbformat_minor": 0
}
